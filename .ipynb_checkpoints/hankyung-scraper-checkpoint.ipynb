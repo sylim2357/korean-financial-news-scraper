{
 "cells": [
  {
   "cell_type": "code",
   "execution_count": 2,
   "metadata": {},
   "outputs": [],
   "source": [
    "import requests\n",
    "from bs4 import BeautifulSoup\n",
    "import pandas as pd\n",
    "import numpy as np\n",
    "import time\n",
    "import re"
   ]
  },
  {
   "cell_type": "code",
   "execution_count": null,
   "metadata": {},
   "outputs": [],
   "source": [
    "links = []\n",
    "titles = []\n",
    "dates = []\n",
    "\n",
    "for i in range(26968):\n",
    "    links_temp = []\n",
    "    titles_temp = []\n",
    "    dates_temp = []\n",
    "    \n",
    "    url = 'https://www.hankyung.com/economy?page='+str(i+1)\n",
    "    res = requests.get(url)\n",
    "    html_soup = BeautifulSoup(res.text)\n",
    "    a_list = html_soup.select('ul[class=list_basic] h3 a[href]')\n",
    "\n",
    "    links_temp = [a['href'] for a in a_list]\n",
    "    titles_temp = [a.text for a in a_list]\n",
    "    dates_temp = [date.text for date in html_soup.select('ul[class=list_basic] span[class=time]')]\n",
    "    \n",
    "    links += links_temp\n",
    "    titles += titles_temp\n",
    "    dates += dates_temp\n",
    "    \n",
    "    if i % 100 == 0:\n",
    "        print(titles_temp[0])\n",
    "        if i % 5000 == 0:\n",
    "            df = pd.DataFrame(columns=['title','date','link'])\n",
    "            df['title'] = titles\n",
    "            df['link'] = links\n",
    "            df['date'] = dates\n",
    "            df.to_csv('hankyung_links.csv', encoding='utf-8', index=False)\n",
    "    time.sleep(np.random.randint(30,150)/101)\n",
    "\n",
    "df = pd.DataFrame(columns=['title','date','link'])\n",
    "df['title'] = titles\n",
    "df['link'] = links\n",
    "df['date'] = dates\n",
    "df.to_csv('hankyung_links.csv', encoding='utf-8', index=False)"
   ]
  }
 ],
 "metadata": {
  "kernelspec": {
   "display_name": "Python [conda env:root] *",
   "language": "python",
   "name": "conda-root-py"
  },
  "language_info": {
   "codemirror_mode": {
    "name": "ipython",
    "version": 3
   },
   "file_extension": ".py",
   "mimetype": "text/x-python",
   "name": "python",
   "nbconvert_exporter": "python",
   "pygments_lexer": "ipython3",
   "version": "3.7.3"
  }
 },
 "nbformat": 4,
 "nbformat_minor": 2
}
