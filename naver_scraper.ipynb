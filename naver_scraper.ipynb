{
 "cells": [
  {
   "cell_type": "code",
   "execution_count": 1,
   "metadata": {},
   "outputs": [],
   "source": [
    "from bs4 import BeautifulSoup\n",
    "import datetime\n",
    "import pandas as pd\n",
    "import numpy as np\n",
    "import requests\n",
    "import time\n",
    "import re"
   ]
  },
  {
   "cell_type": "code",
   "execution_count": null,
   "metadata": {},
   "outputs": [],
   "source": [
    "d1 = datetime.date(2004, 2, 20)\n",
    "d2 = datetime.date(2020, 3, 3)\n",
    "dates = [d1 + datetime.timedelta(days=x) for x in range((d2-d1).days + 1)]\n",
    "\n",
    "df = pd.DataFrame(columns=['title','section','link','paper'])\n",
    "links = []\n",
    "titles = []\n",
    "papers = []\n",
    "\n",
    "for idx, date in enumerate(dates):\n",
    "    date_string = date.strftime('%Y%m%d')\n",
    "    go = True\n",
    "    while go:\n",
    "        i = 1\n",
    "        url = 'https://news.naver.com/main/list.nhn?mode=LS2D&sid2=259&mid=shm&sid1=101&date='+date_string+'&page='+i\n",
    "        res = requests.get(url)\n",
    "        res.encoding='utf-8'\n",
    "        html_soup = BeautifulSoup(res.text, 'lxml')\n",
    "        if int(html_soup.select('div[class=paging] strong')[0].text) != i:\n",
    "            go = False\n",
    "        else:\n",
    "            a_links = [title for title in html_soup.select('dt > a') if title.text != '\\n\\n']\n",
    "            \n",
    "            links = links + [link['href'] for link in a_list]\n",
    "            titles = titles + [re.sub('\\s\\s+', ' ', re.sub('\\n|\\t|\\r', '', link.text)).strip() for link in a_list]\n",
    "            papers = papers + [paper.text for paper in html_soup.select('span[class=writing]')]\n",
    "        time.sleep(np.random.randint(20,150)/101)\n",
    "        i += 1\n",
    "    if idx % 1000 == 0:\n",
    "        print(date_string)\n",
    "    if idx % 10000 == 0:\n",
    "        df = pd.DataFrame(columns=['title','section','link','paper'])\n",
    "        df['link'] = links\n",
    "        df['title'] = titles\n",
    "        df['paper'] = papers\n",
    "        df['sectin'] = 'finance'\n",
    "        df.to_csv('naver_news_finance_links.csv', encoding='utf-8', index=False)\n",
    "\n",
    "df = pd.DataFrame(columns=['title','section','link','paper'])\n",
    "df['link'] = links\n",
    "df['title'] = titles\n",
    "df['paper'] = papers\n",
    "df['sectin'] = 'finance'\n",
    "df.to_csv('naver_news_finance_links.csv', encoding='utf-8', index=False)"
   ]
  }
 ],
 "metadata": {
  "kernelspec": {
   "display_name": "Python [conda env:root] *",
   "language": "python",
   "name": "conda-root-py"
  },
  "language_info": {
   "codemirror_mode": {
    "name": "ipython",
    "version": 3
   },
   "file_extension": ".py",
   "mimetype": "text/x-python",
   "name": "python",
   "nbconvert_exporter": "python",
   "pygments_lexer": "ipython3",
   "version": "3.7.3"
  }
 },
 "nbformat": 4,
 "nbformat_minor": 2
}
